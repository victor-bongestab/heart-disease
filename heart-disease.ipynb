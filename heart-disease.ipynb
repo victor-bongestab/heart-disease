{
 "cells": [
  {
   "cell_type": "markdown",
   "metadata": {},
   "source": [
    "# CODE SUPPORT"
   ]
  },
  {
   "cell_type": "markdown",
   "metadata": {},
   "source": [
    "### Imports and settings"
   ]
  },
  {
   "cell_type": "code",
   "execution_count": 215,
   "metadata": {},
   "outputs": [],
   "source": [
    "# Data extraction\n",
    "from ucimlrepo import fetch_ucirepo\n",
    "\n",
    "# Data Analysis\n",
    "import pandas as pd\n",
    "import numpy as np\n",
    "from scipy.stats import gaussian_kde\n",
    "\n",
    "# Data viz\n",
    "import warnings\n",
    "from PIL import Image\n",
    "from IPython.display import display\n",
    "import matplotlib.pyplot as plt\n",
    "import seaborn as sns\n",
    "\n",
    "# ML packages\n",
    "from sklearn.model_selection import train_test_split"
   ]
  },
  {
   "cell_type": "code",
   "execution_count": 7,
   "metadata": {},
   "outputs": [],
   "source": [
    "warnings.filterwarnings('ignore')"
   ]
  },
  {
   "cell_type": "markdown",
   "metadata": {},
   "source": [
    "### Helper Functions"
   ]
  },
  {
   "cell_type": "code",
   "execution_count": 8,
   "metadata": {},
   "outputs": [],
   "source": [
    "def uci_heart_data():\n",
    "    '''\n",
    "        Downloads dataset from the UCI Repository: Heart Disease.\n",
    "\n",
    "        Parameters:\n",
    "            None.\n",
    "        \n",
    "        Returns:\n",
    "            DataFrame: heart disease dataset.\n",
    "    '''\n",
    "    heart_disease = fetch_ucirepo(name='Heart Disease')\n",
    "\n",
    "    df_features = heart_disease.data.features\n",
    "    df_target = heart_disease.data.targets\n",
    "    df_full = pd.concat([df_features, df_target], axis=1)\n",
    "    \n",
    "    return df_full\n",
    "\n",
    "\n",
    "#"
   ]
  },
  {
   "cell_type": "markdown",
   "metadata": {},
   "source": [
    "# 0 BUSINESS UNDERSTANDING"
   ]
  },
  {
   "cell_type": "markdown",
   "metadata": {},
   "source": [
    "### CRISP for Data Science\n",
    "\n",
    "This is the methodology I use in my projects."
   ]
  },
  {
   "cell_type": "code",
   "execution_count": null,
   "metadata": {},
   "outputs": [],
   "source": [
    "# Loading crisp img\n",
    "img = Image.open('img/crisp.png')\n",
    "\n",
    "# Show\n",
    "display(img)"
   ]
  },
  {
   "cell_type": "markdown",
   "metadata": {},
   "source": [
    "### Understanding the Problem"
   ]
  },
  {
   "cell_type": "markdown",
   "metadata": {},
   "source": [
    "Then we begin tackling the problem by understanding it.\n",
    "\n",
    "Objective of this study:\n",
    "    - Supporting the development of a heart disease prevention system!\n",
    "\n",
    "My job as a Data Scientist is to create a predictive model to identify patients more likely to develop heart diseases.\n",
    "\n",
    "\n",
    "Dataset available in the URL from UC Irvine (UCI) ML Repository: https://archive.ics.uci.edu/ml/datasets/heart+disease.\n",
    "It's made of 4 databases: Cleveland, Hungary, Switzerland, and the VA Long Beach."
   ]
  },
  {
   "cell_type": "markdown",
   "metadata": {},
   "source": [
    "### Understanding the Data"
   ]
  },
  {
   "cell_type": "markdown",
   "metadata": {},
   "source": [
    "As I don't have support from a medical team, my decisions are solely made out of my dataset limited interpretation.\n",
    "\n",
    "Below, we can see a table with the variables information summary, taken directly from the UCI ML Repository."
   ]
  },
  {
   "cell_type": "code",
   "execution_count": null,
   "metadata": {},
   "outputs": [],
   "source": [
    "# Loading data_features img\n",
    "img = Image.open('img/dataset_variables.png')\n",
    "\n",
    "# Show\n",
    "display(img)"
   ]
  },
  {
   "cell_type": "markdown",
   "metadata": {},
   "source": [
    "The Target feature also have this extra info:\n",
    "\n",
    "num: diagnosis of heart disease (angiographic disease status)\n",
    "        -- Value 0: < 50% diameter narrowing\n",
    "        -- Value 1: > 50% diameter narrowing\n",
    "        (in any major vessel: attributes 59 through 68 are vessels)"
   ]
  },
  {
   "cell_type": "markdown",
   "metadata": {},
   "source": [
    "Because we have the Target feature, it's possible to use supervised models to predict whether or not new patients are prone to heart diseases.\n",
    "\n",
    "The next steps are Data Extraction and Data Cleaning. We can better understand the data he have by diving into it."
   ]
  },
  {
   "cell_type": "code",
   "execution_count": null,
   "metadata": {},
   "outputs": [],
   "source": [
    "# Loading timeline img\n",
    "img = Image.open('img/timeline.png')\n",
    "\n",
    "# Show\n",
    "display(img)"
   ]
  },
  {
   "cell_type": "markdown",
   "metadata": {},
   "source": [
    "# 1 DATA EXTRACTION"
   ]
  },
  {
   "cell_type": "code",
   "execution_count": 12,
   "metadata": {},
   "outputs": [],
   "source": [
    "# Downloading the dataset from UCI.\n",
    "df1 = uci_heart_data()"
   ]
  },
  {
   "cell_type": "markdown",
   "metadata": {},
   "source": [
    "# 2 DATA CLEANING"
   ]
  },
  {
   "cell_type": "code",
   "execution_count": 115,
   "metadata": {},
   "outputs": [],
   "source": [
    "# Now we begin to understand how the dataset was built in more depth.\n",
    "df2 = df1.copy()"
   ]
  },
  {
   "cell_type": "markdown",
   "metadata": {},
   "source": [
    "### 2.1 Data Description"
   ]
  },
  {
   "cell_type": "code",
   "execution_count": null,
   "metadata": {},
   "outputs": [],
   "source": [
    "# Just taking a look at the dataframe.\n",
    "df2.head(3)"
   ]
  },
  {
   "cell_type": "code",
   "execution_count": null,
   "metadata": {},
   "outputs": [],
   "source": [
    "# Checking dataframe size.\n",
    "print( 'Rows: {}'.format( df2.shape[0] ) )\n",
    "print( 'Cols: {}'.format( df2.shape[1] ) )"
   ]
  },
  {
   "cell_type": "code",
   "execution_count": null,
   "metadata": {},
   "outputs": [],
   "source": [
    "# Displaying information about variables types and missing values.\n",
    "type_value_analysis = pd.concat(\n",
    "    [df2.dtypes, df2.isna().sum()], \n",
    "    axis=1, \n",
    "    keys=['Data Types', 'Missing Values'])\n",
    "print(type_value_analysis)"
   ]
  },
  {
   "cell_type": "markdown",
   "metadata": {},
   "source": [
    "### 2.2 Missing Values"
   ]
  },
  {
   "cell_type": "code",
   "execution_count": null,
   "metadata": {},
   "outputs": [],
   "source": [
    "# Trying to understand the missing values.\n",
    "df2[(df2['ca'].isna()) | (df2['thal'].isna())]"
   ]
  },
  {
   "cell_type": "code",
   "execution_count": 120,
   "metadata": {},
   "outputs": [],
   "source": [
    "# I don't have any other information that could help determine the missing values \n",
    "# for 'ca' (flouroscopy result) or 'thal' (whatever this is). \n",
    "# \n",
    "# The decision here is to drop them. It's just 2.3% of our dataset, we'll survive.\n",
    "df2 = df2.dropna()"
   ]
  },
  {
   "cell_type": "markdown",
   "metadata": {},
   "source": [
    "### 2.3 Data Types"
   ]
  },
  {
   "cell_type": "code",
   "execution_count": null,
   "metadata": {},
   "outputs": [],
   "source": [
    "# We have to take a look in the variables with data type float64, as the \n",
    "# int64 alreary have their values determined by the nature of its type.\n",
    "# \n",
    "# These are 'oldpeak', 'ca' and 'thal'. Let's check their values. \n",
    "# \n",
    "# P.S.: UCI Repository says that 'oldpeak' and 'ca' are integer and 'thal' \n",
    "# is categorical.\n",
    "unique_values_dict = {\n",
    "    'oldpeak': list(df2['oldpeak'].unique()),\n",
    "    'ca': list(df2['ca'].unique()),\n",
    "    'thal': list(df2['thal'].unique())\n",
    "}\n",
    "\n",
    "for i in unique_values_dict:\n",
    "    print('{}: {}'.format(i, unique_values_dict[i]))"
   ]
  },
  {
   "cell_type": "code",
   "execution_count": 122,
   "metadata": {},
   "outputs": [],
   "source": [
    "# As we can see, 'ca' and 'thal' can be stored as integer. But, contrary to \n",
    "# the UCI recommendation, 'oldpeak' is indeed float.\n",
    "variables_to_integer = ['ca', 'thal']\n",
    "\n",
    "for i in variables_to_integer:\n",
    "    df2[i] = df2[i].astype('int64')"
   ]
  },
  {
   "cell_type": "markdown",
   "metadata": {},
   "source": [
    "### 2.4 Identifying Categorical and Numerical Data"
   ]
  },
  {
   "cell_type": "code",
   "execution_count": null,
   "metadata": {},
   "outputs": [],
   "source": [
    "# Let's display unique values for each variable. Then we can decide on\n",
    "# the nature of the data attributes.\n",
    "attributes = list(df2.columns)\n",
    "attributes_dict = {}\n",
    "\n",
    "for att in attributes:\n",
    "    attributes_dict[att] = list(df2[att].unique())\n",
    "\n",
    "for i, j in attributes_dict.items():\n",
    "    print('{}: {}'.format(i, j))"
   ]
  },
  {
   "cell_type": "code",
   "execution_count": 124,
   "metadata": {},
   "outputs": [],
   "source": [
    "# The values for 'num' are not as expected from the data description from UCI.\n",
    "# As we should have only 0 or 1, for False and True."
   ]
  },
  {
   "cell_type": "code",
   "execution_count": 125,
   "metadata": {},
   "outputs": [],
   "source": [
    "# Complete list of attributes:\n",
    "attributes = list(df2.columns)\n",
    "\n",
    "# For the numerical attributes, we can identify:\n",
    "num_attributes = ['age', 'trestbps', 'chol', 'thalach', 'oldpeak']\n",
    "\n",
    "# And for the categorical ones, we have:\n",
    "cat_attributes = [att for att in attributes if att not in num_attributes]"
   ]
  },
  {
   "cell_type": "markdown",
   "metadata": {},
   "source": [
    "### 2.5 Adjusting Values"
   ]
  },
  {
   "cell_type": "code",
   "execution_count": 126,
   "metadata": {},
   "outputs": [],
   "source": [
    "# As we saw, 'num' values are not as expected. We can follow \n",
    "# with 0 as 0, but 1, 2, 3, 4 as 1. \n",
    "# If I'd take a guess, it may identify from which of the four\n",
    "# databases these positives come from.\n",
    "df2.loc[df2['num'] > 0, 'num'] = 1"
   ]
  },
  {
   "cell_type": "markdown",
   "metadata": {},
   "source": [
    "### 2.6 Identifying Outliers"
   ]
  },
  {
   "cell_type": "code",
   "execution_count": null,
   "metadata": {},
   "outputs": [],
   "source": [
    "# Plotting histogram to identify weird patterns.\n",
    "df2[num_attributes].hist(bins=20, figsize=(10, 8));"
   ]
  },
  {
   "cell_type": "code",
   "execution_count": null,
   "metadata": {},
   "outputs": [],
   "source": [
    "# Plotting histogram to identify weird patterns.\n",
    "df2[cat_attributes].hist(bins=20, figsize=(10, 8));"
   ]
  },
  {
   "cell_type": "code",
   "execution_count": 129,
   "metadata": {},
   "outputs": [],
   "source": [
    "# Everything looks fine"
   ]
  },
  {
   "cell_type": "markdown",
   "metadata": {},
   "source": [
    "# 3 EXPLORATORY DATA ANALYSIS"
   ]
  },
  {
   "cell_type": "code",
   "execution_count": 130,
   "metadata": {},
   "outputs": [],
   "source": [
    "# It's adventure time.\n",
    "df3 = df2.copy()"
   ]
  },
  {
   "cell_type": "markdown",
   "metadata": {},
   "source": [
    "### 3.1 Hypothesis Creation "
   ]
  },
  {
   "cell_type": "code",
   "execution_count": 114,
   "metadata": {},
   "outputs": [],
   "source": [
    "# NUMERICAL ATTRIBUTES\n",
    "# 1. age - Risk patients tend to be older;\n",
    "\n",
    "# 2. trestbps - Risk patients are more common to have higher resting\n",
    "# blood pressure;\n",
    "\n",
    "# 3. chol - It's more common to find high serum cholesterol patients\n",
    "# among the risk group;\n",
    "\n",
    "# 4. thalach - maximum heart rate achieved higher for risk patients,\n",
    "# athletes tend to have lower heart rate overall;\n",
    "\n",
    "# 5. oldpeak - ST segment instability are common in patients with heart\n",
    "# disease.\n",
    "\n",
    "\n",
    "# CATEGORICAL ATTRIBUTES\n",
    "# 6. sex - Women (0) take more care of themselves and see doctors more \n",
    "# often, meaning lower risk of developing diseases in general;\n",
    "\n",
    "# 7. cp - chest pain (1, 2, 3) may indicate problems around the chest, \n",
    "# anginal (1, 2) often indicate a heart disease (value 4 should be more \n",
    "# common in healthy patients);\n",
    "\n",
    "# 8. fbs - high sugar (1) is usually related to heart diseases;\n",
    "\n",
    "# 9. restecg - abnormal (1) and compromised (2) ECG results should be\n",
    "# more often on risk patients;\n",
    "\n",
    "# 10. exang - angina by exercising (1) should indicate risk;\n",
    "\n",
    "# 11. slope - ST slope should be flat (2), most important cause of\n",
    "# ST segment abnormality is myocardial ischaemia or infarction \n",
    "# (source: litfl.com/st-segment-ecg-library/ accessed in 2024-sep-07);\n",
    "\n",
    "# 12. ca - I don't know what result we should get, let's assume\n",
    "# that lower vessels mean higher risk;\n",
    "\n",
    "# 13. thal - normal (3) means lower risk, defects (6, 7) should be \n",
    "# more common in risk patients.\n"
   ]
  },
  {
   "cell_type": "markdown",
   "metadata": {},
   "source": [
    "### 3.2 Descriptive Analysis for each Variable"
   ]
  },
  {
   "cell_type": "markdown",
   "metadata": {},
   "source": [
    "#### 3.2.1 Numerical Attributes"
   ]
  },
  {
   "cell_type": "markdown",
   "metadata": {},
   "source": [
    "##### <font color='lightblue'> Univariate Analysis </font>"
   ]
  },
  {
   "cell_type": "code",
   "execution_count": null,
   "metadata": {},
   "outputs": [],
   "source": [
    "# Central Tendency\n",
    "ct1 = pd.DataFrame( df3[num_attributes].apply( np.mean ) ).T\n",
    "ct2 = pd.DataFrame( df3[num_attributes].apply( np.median ) ).T\n",
    "\n",
    "# Dispersion - std, min, max, range, skew, kurtosis\n",
    "d1 = pd.DataFrame( df3[num_attributes].apply( np.std ) ).T\n",
    "d2 = pd.DataFrame( df3[num_attributes].apply( min ) ).T\n",
    "d3 = pd.DataFrame( df3[num_attributes].apply( max ) ).T\n",
    "d4 = pd.DataFrame( df3[num_attributes].apply( lambda x: x.max() - x.min() ) ).T\n",
    "d5 = pd.DataFrame( df3[num_attributes].apply( lambda x: x.skew() ) ).T\n",
    "d6 = pd.DataFrame( df3[num_attributes].apply( lambda x: x.kurtosis() ) ).T\n",
    "\n",
    "summary = pd.concat( [ d2, d3, d4, ct1, ct2, d1, d5, d6 ] ).T.reset_index()\n",
    "summary.columns = [ 'attributes', 'min', 'max', 'range', 'mean', 'median', 'std', 'skew', 'kurtosis' ]\n",
    "\n",
    "summary"
   ]
  },
  {
   "cell_type": "code",
   "execution_count": 30,
   "metadata": {},
   "outputs": [],
   "source": [
    "# In general, we have distributions close to Normal, with attention\n",
    "# to 'chol' with high kurtosis, indicating a high peak around the mean value.\n",
    "# And 'oldpeak' with high positive skewness, showing its tendency to lower\n",
    "# values, and high kurtosis, also highlighting a great peak."
   ]
  },
  {
   "cell_type": "code",
   "execution_count": null,
   "metadata": {},
   "outputs": [],
   "source": [
    "df3[num_attributes].hist( bins=80 );"
   ]
  },
  {
   "cell_type": "code",
   "execution_count": 41,
   "metadata": {},
   "outputs": [],
   "source": [
    "# We can see an accumulation of 'oldpeak' in point zero and\n",
    "# this can be investigated further."
   ]
  },
  {
   "cell_type": "markdown",
   "metadata": {},
   "source": [
    "##### <font color='lightblue'> Bivariate Analysis </font>"
   ]
  },
  {
   "cell_type": "code",
   "execution_count": null,
   "metadata": {},
   "outputs": [],
   "source": [
    "# 'oldpeak' analysis just to get a hang of it.\n",
    "# Figure size.\n",
    "plt.figure(figsize=(14, 6))\n",
    "\n",
    "# Plot for healthy patients.\n",
    "sns.kdeplot(df3.loc[df3['num'] == 0, 'oldpeak'], label='Healthy', color='dodgerblue', shade=True)\n",
    "\n",
    "# Plot for risk patients.\n",
    "sns.kdeplot(df3.loc[df3['num'] == 1, 'oldpeak'], label='Risk', color='darkred', shade=True)\n",
    "\n",
    "# Show legend and graph.\n",
    "plt.legend()\n",
    "plt.show()"
   ]
  },
  {
   "cell_type": "code",
   "execution_count": null,
   "metadata": {},
   "outputs": [],
   "source": [
    "# We can see that 'oldpeak' serves as a good indicator for heart health.\n",
    "# From that, we can generalize and see how the other variables behave too.\n",
    "for att in num_attributes:\n",
    "    # Figure settings.\n",
    "    plt.figure(figsize=(8, 3))\n",
    "\n",
    "    # Plots for healthy and risk patients\n",
    "    sns.kdeplot(df3.loc[df3['num'] == 0, att], label='Healthy', bw_adjust=0.5, color='dodgerblue', shade=True)\n",
    "    sns.kdeplot(df3.loc[df3['num'] == 1, att], label='Risk', bw_adjust=0.5, color='darkred', shade=True)\n",
    "\n",
    "    # Show plots.\n",
    "    plt.legend()\n",
    "    plt.show()"
   ]
  },
  {
   "cell_type": "code",
   "execution_count": 36,
   "metadata": {},
   "outputs": [],
   "source": [
    "# NUMERICAL ATTRIBUTES\n",
    "# 1. age - Risk patients tend to be older;\n",
    "#   * TRUE *\n",
    "\n",
    "# 2. trestbps - Risk patients are more common to have higher resting\n",
    "# blood pressure;\n",
    "#   * TRUE * But the difference between groups is small.\n",
    "\n",
    "# 3. chol - It's more common to find high serum cholesterol patients\n",
    "# among the risk group;\n",
    "#   * TRUE *\n",
    "\n",
    "# 4. thalach - maximum heart rate achieved higher for risk patients,\n",
    "# athletes tend to have lower heart rate overall;\n",
    "#   * FALSE * Looks like healthy people has some extra power.\n",
    "\n",
    "# 5. oldpeak - ST segment instability are common in patients with heart\n",
    "# disease.\n",
    "#   * TRUE * Very significant difference between groups."
   ]
  },
  {
   "cell_type": "markdown",
   "metadata": {},
   "source": [
    "#### 3.2.2 Categorical Attributes"
   ]
  },
  {
   "cell_type": "markdown",
   "metadata": {},
   "source": [
    "##### <font color='lightpink'> Uni and Bivariate Analysis </font>"
   ]
  },
  {
   "cell_type": "code",
   "execution_count": null,
   "metadata": {},
   "outputs": [],
   "source": [
    "for att in cat_attributes:\n",
    "    # Target variable plot.\n",
    "    if att == 'num':\n",
    "        fig, axes = plt.subplots(1, 1, figsize=(6, 3))\n",
    "        sns.countplot(x=att, data=df3)\n",
    "\n",
    "        # Show plot\n",
    "        plt.tight_layout()\n",
    "        plt.show()\n",
    "\n",
    "        # Go to next att.\n",
    "        continue\n",
    "\n",
    "    # Categorical Features plot.\n",
    "    # Figures settings.\n",
    "    fig, axes = plt.subplots(1, 2, figsize=(12, 3))\n",
    "\n",
    "    # Count of the attribute.\n",
    "    sns.countplot(x=att, data=df3, ax=axes[0])\n",
    "\n",
    "    # Comparison to the target variable.\n",
    "    sns.kdeplot(df3.loc[df3['num'] == 0, att], label='Healthy', color='dodgerblue', shade=True, bw_adjust=0.1, ax=axes[1])\n",
    "    sns.kdeplot(df3.loc[df3['num'] == 1, att], label='Risk', color='darkred', shade=True, bw_adjust=0.1, ax=axes[1])\n",
    "\n",
    "    # Show plots\n",
    "    plt.legend()\n",
    "    plt.tight_layout()\n",
    "    plt.show()"
   ]
  },
  {
   "cell_type": "code",
   "execution_count": null,
   "metadata": {},
   "outputs": [],
   "source": [
    "# CATEGORICAL ATTRIBUTES\n",
    "# 6. sex - Women (0) take more care of themselves and see doctors more \n",
    "# often, meaning lower risk of developing diseases in general;\n",
    "#   * TRUE *\n",
    "\n",
    "# 7. cp - chest pain (1, 2, 3) may indicate problems around the chest, \n",
    "# anginal (1, 2) often indicate a heart disease (value 4 should be more \n",
    "# common in healthy patients);\n",
    "#   * FALSE * eXCUSE ME, WTf? Just found out that ischemia can be \n",
    "# * \"silent\"... Scary.\n",
    "\n",
    "# 8. fbs - high sugar (1) is usually related to heart diseases;\n",
    "#   * FALSE * Little to no difference between groups.\n",
    "\n",
    "# 9. restecg - abnormal (1) and compromised (2) ECG results should be\n",
    "# more often on risk patients;\n",
    "#   * TRUE *\n",
    "\n",
    "# 10. exang - angina by exercising (1) should indicate risk;\n",
    "#   * TRUE *\n",
    "\n",
    "# 11. slope - ST slope should be flat (2), most important cause of\n",
    "# ST segment abnormality is myocardial ischaemia or infarction \n",
    "# (source: litfl.com/st-segment-ecg-library/ accessed in 2024-sep-05);\n",
    "#   * FALSE * Apparently, the expected slope while exercising is \n",
    "# * different from rest slope. Up slope is the healthy one.\n",
    "\n",
    "# 12. ca - I don't know what result we should get, let's assume\n",
    "# that less color vessels mean higher risk;\n",
    "#   * FALSE * 0 is healthy, the others indicate risk. Further\n",
    "# * research let me understand that are multiple types of color-\n",
    "# * coding, depending on the purpose of the Angiography. We should\n",
    "# * get better info with the medical team about the procedure.\n",
    "\n",
    "# 13. thal - normal (3) means lower risk, defects (6, 7) should be \n",
    "# more common in risk patients.\n",
    "#   * TRUE *\n",
    "\n",
    "\n",
    "# Also, we have a lot of risk patients, almost half of our sample (> 50% diameter narrowing)."
   ]
  },
  {
   "cell_type": "markdown",
   "metadata": {},
   "source": [
    "### 3.3 Multivariate Analysis"
   ]
  },
  {
   "cell_type": "code",
   "execution_count": null,
   "metadata": {},
   "outputs": [],
   "source": [
    "# Now we can try to find other correlations between variables\n",
    "# and see how much each one impact the target variable compared\n",
    "# to one another.\n",
    "#\n",
    "# Seaborn pairplot in histograms can give us a good 2-D overview\n",
    "# of our numerical attributes related to target.\n",
    "pplot_attributes = num_attributes\n",
    "pplot_attributes.append('num')\n",
    "sns.pairplot(df3[pplot_attributes], hue = 'num', diag_kind='hist', plot_kws={'alpha':0.5});"
   ]
  },
  {
   "cell_type": "code",
   "execution_count": null,
   "metadata": {},
   "outputs": [],
   "source": [
    "# As an 2-dimensional hitplot, being the target variable indicated\n",
    "# by color. We are looking for diagonal shifts between the two\n",
    "# color spreads.\n",
    "#\n",
    "# Diagonal spreads mean greater correlation betwen two features,\n",
    "# and diagonal shifts mean they are both greatly affecting the target.\n",
    "#\n",
    "# Most diagonal-ish spreads:\n",
    "# age x thalach, age x trestbps, trestbps x thalach, \n",
    "# thalach x oldpeak.\n",
    "#\n",
    "# Most evident diagonal shifts:\n",
    "# age x thalach, age x oldpeak, thalach x oldpeak\n",
    "#\n",
    "# So we should give double attention to 'age', 'thalach' and 'oldpeak'."
   ]
  },
  {
   "cell_type": "code",
   "execution_count": null,
   "metadata": {},
   "outputs": [],
   "source": [
    "# Examining a heatmap, we could confirm the assumptions above\n",
    "# and evaluate how the categorical attributes play along.\n",
    "#\n",
    "# Figures layout.\n",
    "fig,ax = plt.subplots(figsize=(15,8))\n",
    "\n",
    "# Getting the correlation matrix.\n",
    "corr = df3.corr()\n",
    "corr = corr.round(4)\n",
    "\n",
    "# Taking the upper triangle of the correlation matrix.\n",
    "matrix = np.triu(corr)\n",
    "\n",
    "# Using the upper triangle matrix as mask to only show what's left.\n",
    "sns.heatmap(corr, center=0, cmap='RdBu', annot=True, mask=matrix)"
   ]
  },
  {
   "cell_type": "code",
   "execution_count": null,
   "metadata": {},
   "outputs": [],
   "source": [
    "# Here we can confirm that 'thalach' and 'oldpeak' have\n",
    "# the greatest influence over 'num', followed by 'age',\n",
    "# when watching only num_attributes.\n",
    "#\n",
    "# For cat_attributes, we can highlight 'cp', 'ca', 'exang'\n",
    "#  and 'thal', followed by 'sex' and 'slope'.\n",
    "#\n",
    "# Another interesting result is 'fbs' showing little to\n",
    "# no correlation to every other variable, except for\n",
    "# 'age', 'trestbps' and 'ca'. It may affect our target\n",
    "# indirectly but we should try taking it off our future\n",
    "# models to investigate its impact.\n"
   ]
  },
  {
   "cell_type": "code",
   "execution_count": null,
   "metadata": {},
   "outputs": [],
   "source": [
    "# Further investigating the case of asymptomatic chest \n",
    "# pain, I found good information about how it's sex related\n",
    "# even though it looks to have no correlation according\n",
    "# to the heatmap above. \n",
    "# Now looking at how it differs from men to women.\n",
    "#\n",
    "# Plotting relative distribution of 'cp' for men and women,\n",
    "# healthy and in risk.\n",
    "# Figures settings\n",
    "fig, axes = plt.subplots(1, 2, figsize=(12, 3))\n",
    "\n",
    "def plot_kde_normalized(ax, data, label, color):\n",
    "    # Compute KDE\n",
    "    kde = gaussian_kde(data, bw_method=0.03)\n",
    "    x = np.linspace(1, 4, 1000)\n",
    "    y = kde(x)\n",
    "    \n",
    "    # Normalize to 100%\n",
    "    y = y / y.sum()\n",
    "    \n",
    "    # Plot\n",
    "    ax.plot(x, y, label=label, color=color)\n",
    "    ax.fill_between(x, y, color=color, alpha=0.2)\n",
    "\n",
    "# Women\n",
    "plot_kde_normalized(axes[0], df3.loc[(df3['num'] == 0) & (df3['sex'] == 0), 'cp'], label='Healthy', color='dodgerblue')\n",
    "plot_kde_normalized(axes[0], df3.loc[(df3['num'] == 1) & (df3['sex'] == 0), 'cp'], label='Risk', color='darkred')\n",
    "\n",
    "# Men\n",
    "plot_kde_normalized(axes[1], df3.loc[(df3['num'] == 0) & (df3['sex'] == 1), 'cp'], label='Healthy', color='dodgerblue')\n",
    "plot_kde_normalized(axes[1], df3.loc[(df3['num'] == 1) & (df3['sex'] == 1), 'cp'], label='Risk', color='darkred')\n",
    "\n",
    "\n",
    "# Adjusting layout, titles and legends\n",
    "axes[0].set_title('Women')\n",
    "axes[0].set_ylim(0, 0.11)\n",
    "axes[1].set_title('Men')\n",
    "axes[1].set_ylim(0, 0.11)\n",
    "\n",
    "axes[0].legend()\n",
    "axes[1].legend()\n",
    "\n",
    "plt.tight_layout()\n",
    "plt.show()\n"
   ]
  },
  {
   "cell_type": "code",
   "execution_count": 99,
   "metadata": {},
   "outputs": [],
   "source": [
    "# Typical Angina: Great indicator for men in risk, it's not a symptom in women;\n",
    "# Atypical Angina: Great indicator for women in risk, less frequent in men;\n",
    "# Non-Anginal Chest Pain: Great indicator for men, not for women;\n",
    "# Asymptommatic: Way more common for women.\n",
    "#\n",
    "# With further research, I could find that the diagnosis for men and women are \n",
    "# quite different. Being chest pain, commonly spread as a must have sympton, \n",
    "# being greatly relevant for diagnosing men, but not women.\n",
    "#\n",
    "# According to the Hospital Einstein blog (https://vidasaudavel.einstein.br/infarto\n",
    "# -em-mulheres-conheca-mitos-e-verdades-sobre-ataque-cardiaco/, accessed in 2024-sep\n",
    "# -06):\n",
    "# \"[...] women describe chest pain as pressure or a tight feeling, and not as an \n",
    "# accute pain. Other frequent symptoms in female sex patients are:\n",
    "# Burning skin; pain in neck, shoulders, face and jaw; difficulty breathing; \n",
    "# fatigue; palpitations.\"\n",
    "#\n",
    "# From the National Library of Medicine (https://www.ncbi.nlm.nih.gov/medgen/149267#:\n",
    "# ~:text=Definition,from%20NCI%5D, accessed in 2024-sep-06), they define Atypical\n",
    "# Angina as:\n",
    "# \"Angina pectoris which does not have associated classical symptoms of chest pain. \n",
    "# Symptoms may include weakness, nausea, or sweating.\"\n"
   ]
  },
  {
   "cell_type": "code",
   "execution_count": null,
   "metadata": {},
   "outputs": [],
   "source": [
    "# That show that we can not rely solely on a heatmap\n",
    "# to determine feature correlation. Specially because \n",
    "# the value 4 of 'cp' has huge impact on the distribution.\n"
   ]
  },
  {
   "cell_type": "markdown",
   "metadata": {},
   "source": [
    "### 3.4 Feature Engineering"
   ]
  },
  {
   "cell_type": "code",
   "execution_count": null,
   "metadata": {},
   "outputs": [],
   "source": [
    "# Best correlation found until now was between\n",
    "# symptomns and sex, and I have a plan for it when\n",
    "# it's time to encode the cat_attributes."
   ]
  },
  {
   "cell_type": "markdown",
   "metadata": {},
   "source": [
    "# 4 DATA MODELING"
   ]
  },
  {
   "cell_type": "code",
   "execution_count": 169,
   "metadata": {},
   "outputs": [],
   "source": [
    "# Time to prepare our data for the ML algorithms.\n",
    "df4 = df3.copy()"
   ]
  },
  {
   "cell_type": "markdown",
   "metadata": {},
   "source": [
    "### 4.1 Data Preprocessing"
   ]
  },
  {
   "cell_type": "markdown",
   "metadata": {},
   "source": [
    "#### 4.1.1 Scalers"
   ]
  },
  {
   "cell_type": "code",
   "execution_count": null,
   "metadata": {},
   "outputs": [],
   "source": [
    "# As I'm planning to use tree based models, we are not\n",
    "# going to scale our numerical attributes."
   ]
  },
  {
   "cell_type": "markdown",
   "metadata": {},
   "source": [
    "#### 4.1.2 Encoders"
   ]
  },
  {
   "cell_type": "code",
   "execution_count": null,
   "metadata": {},
   "outputs": [],
   "source": [
    "for att in cat_attributes:\n",
    "    print('{}, values: {}'.format(att, df3[att].unique()))"
   ]
  },
  {
   "cell_type": "code",
   "execution_count": 192,
   "metadata": {},
   "outputs": [],
   "source": [
    "# sex: fine (labeled);\n",
    "# * cp: It's already label encoded, but I'll reduce the amount of labels;\n",
    "# fbs: fine (labeled);\n",
    "# restecg: fine (ordinal);\n",
    "# exang: fine (labeled);\n",
    "# slope: fine (ordinal);\n",
    "# ca: fine (ordinal);\n",
    "# * thal: encoding reordination;\n",
    "# num: target, fine."
   ]
  },
  {
   "cell_type": "code",
   "execution_count": null,
   "metadata": {},
   "outputs": [],
   "source": [
    "# The'cp' values 1 and 3 are almost irrelevant for women.\n",
    "# On the other hand, they are good indicators of heart \n",
    "# disease for men.\n",
    "#\n",
    "# Value 2 is way more influent on women then on men.\n",
    "#\n",
    "# As a solution, we can separate male from female related \n",
    "# symptoms, as they are really dependent on sex. This will\n",
    "# help the ML algorithms work less.\n",
    "#\n",
    "# New Chest Pain 'cp':\n",
    "# 0 = female related symptoms[former 2]),\n",
    "# 1 = male related symptoms [former 1 and 3],\n",
    "# 2 = asymptomatic [former 4].\n",
    "if 4 in list(df3['cp'].unique()):\n",
    "    df3['cp'] = df3['cp'].replace(to_replace=[1, 2, 3, 4], value=[1, 0, 1, 2])\n",
    "else:\n",
    "    print('Already adjusted.')\n",
    "\n",
    "# 'thal' values only need a reordination.\n",
    "if 7 in list(df3['thal'].unique()):\n",
    "    df3['thal'] = df3['thal'].replace(to_replace=[3, 6, 7], value=[0, 1, 2])\n",
    "else:\n",
    "    print('Already adjusted.')"
   ]
  },
  {
   "cell_type": "markdown",
   "metadata": {},
   "source": [
    "### 4.2 Training-Validation Split"
   ]
  },
  {
   "cell_type": "code",
   "execution_count": null,
   "metadata": {},
   "outputs": [],
   "source": [
    "# Firts, let's define our X, y data.\n",
    "X = df3.drop(columns=['num'])\n",
    "y = df3['num']\n",
    "\n",
    "# Input (X) and target (y) selection\n",
    "print('Data shape - X: {}, y: {}'.format(X.shape, y.shape))"
   ]
  },
  {
   "cell_type": "code",
   "execution_count": null,
   "metadata": {},
   "outputs": [],
   "source": [
    "# In my planning I was going to write my own frunction for\n",
    "# this, but why?\n",
    "# From the scikit-learn documentation, we can use the\n",
    "# train_test_split helper function to split our data and\n",
    "# save a replicable state.\n",
    "#\n",
    "# Replicable state number 1109,\n",
    "# Test sample of 10%. i'm taking just a tip of our dataset\n",
    "# because we already have few rows in it.\n",
    "X_train, X_test, y_train, y_test = train_test_split(\n",
    "    X, y, test_size=0.1, random_state=1109)\n",
    "\n",
    "print('Training data sample - X: {}, y: {}'.format(X_train.shape, y_train.shape))\n",
    "print('Testing data sample - X: {}, y: {}'.format(X_test.shape, y_test.shape))"
   ]
  },
  {
   "cell_type": "markdown",
   "metadata": {},
   "source": [
    "### 4.3 Cross-Validation"
   ]
  }
 ],
 "metadata": {
  "kernelspec": {
   "display_name": "heart_disease",
   "language": "python",
   "name": "python3"
  },
  "language_info": {
   "codemirror_mode": {
    "name": "ipython",
    "version": 3
   },
   "file_extension": ".py",
   "mimetype": "text/x-python",
   "name": "python",
   "nbconvert_exporter": "python",
   "pygments_lexer": "ipython3",
   "version": "3.12.4"
  }
 },
 "nbformat": 4,
 "nbformat_minor": 2
}
