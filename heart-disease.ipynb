{
 "cells": [
  {
   "cell_type": "markdown",
   "metadata": {},
   "source": [
    "# CODE SUPPORT"
   ]
  },
  {
   "cell_type": "markdown",
   "metadata": {},
   "source": [
    "### Imports and settings"
   ]
  },
  {
   "cell_type": "code",
   "execution_count": null,
   "metadata": {},
   "outputs": [],
   "source": [
    "# Data extraction\n",
    "from ucimlrepo import fetch_ucirepo\n",
    "\n",
    "# Default\n",
    "import pandas as pd\n",
    "import numpy as np\n",
    "import warnings\n",
    "\n",
    "# Data viz\n",
    "from PIL import Image\n",
    "from IPython.display import display"
   ]
  },
  {
   "cell_type": "code",
   "execution_count": null,
   "metadata": {},
   "outputs": [],
   "source": [
    "warnings.filterwarnings('ignore')"
   ]
  },
  {
   "cell_type": "markdown",
   "metadata": {},
   "source": [
    "### Helper Functions"
   ]
  },
  {
   "cell_type": "code",
   "execution_count": null,
   "metadata": {},
   "outputs": [],
   "source": [
    "def uci_heart_data():\n",
    "    '''\n",
    "        Downloads dataset from the UCI Repository: Heart Disease.\n",
    "\n",
    "        Parameters:\n",
    "            None.\n",
    "        \n",
    "        Returns:\n",
    "            DataFrame: heart disease dataset.\n",
    "    '''\n",
    "    heart_disease = fetch_ucirepo(name='Heart Disease')\n",
    "\n",
    "    df_features = heart_disease.data.features\n",
    "    df_target = heart_disease.data.targets\n",
    "    df_full = pd.concat([df_features, df_target], axis=1)\n",
    "    \n",
    "    return df_full\n",
    "\n",
    "\n",
    "#"
   ]
  },
  {
   "cell_type": "markdown",
   "metadata": {},
   "source": [
    "# 0 BUSINESS UNDERSTANDING"
   ]
  },
  {
   "cell_type": "markdown",
   "metadata": {},
   "source": [
    "### CRISP for Data Science\n",
    "\n",
    "This is the methodology I use in my projects."
   ]
  },
  {
   "cell_type": "code",
   "execution_count": null,
   "metadata": {},
   "outputs": [],
   "source": [
    "# Loading crisp img\n",
    "img = Image.open('img/crisp.png')\n",
    "\n",
    "# Show\n",
    "display(img)"
   ]
  },
  {
   "cell_type": "markdown",
   "metadata": {},
   "source": [
    "### Understanding the Problem"
   ]
  },
  {
   "cell_type": "markdown",
   "metadata": {},
   "source": [
    "Then we begin tackling the problem by understanding it.\n",
    "\n",
    "Objective of this study:\n",
    "    - Supporting the development of a heart disease prevention system!\n",
    "\n",
    "My job as a Data Scientist is to create a predictive model to identify patients more likely to develop heart diseases.\n",
    "\n",
    "\n",
    "Dataset available in the URL from UC Irvine (UCI) ML Repository: https://archive.ics.uci.edu/ml/datasets/heart+disease.\n",
    "It's made of 4 databases: Cleveland, Hungary, Switzerland, and the VA Long Beach."
   ]
  },
  {
   "cell_type": "markdown",
   "metadata": {},
   "source": [
    "### Understanding the Data"
   ]
  },
  {
   "cell_type": "markdown",
   "metadata": {},
   "source": [
    "As I don't have support from a medical team, my decisions are solely made out of my dataset limited interpretation.\n",
    "\n",
    "Below, we can see a table with the variables information summary, taken directly from the UCI ML Repository."
   ]
  },
  {
   "cell_type": "code",
   "execution_count": null,
   "metadata": {},
   "outputs": [],
   "source": [
    "# Loading data_features img\n",
    "img = Image.open('img/dataset_variables.png')\n",
    "\n",
    "# Show\n",
    "display(img)"
   ]
  },
  {
   "cell_type": "markdown",
   "metadata": {},
   "source": [
    "Because we have the Target feature, it's possible to use supervised models to predict whether or not new patients are prone to heart diseases.\n",
    "\n",
    "The next steps are Data Extraction and Data Cleaning. We can better understand the data he have by diving into it."
   ]
  },
  {
   "cell_type": "markdown",
   "metadata": {},
   "source": [
    "# 1 DATA EXTRACTION"
   ]
  },
  {
   "cell_type": "code",
   "execution_count": null,
   "metadata": {},
   "outputs": [],
   "source": [
    "# Downloading the dataset from UCI.\n",
    "df1 = uci_heart_data()"
   ]
  },
  {
   "cell_type": "markdown",
   "metadata": {},
   "source": [
    "# 2 DATA CLEANING"
   ]
  },
  {
   "cell_type": "code",
   "execution_count": null,
   "metadata": {},
   "outputs": [],
   "source": [
    "# Now we begin to understand how the dataset was built in more depth.\n",
    "df2 = df1.copy()"
   ]
  },
  {
   "cell_type": "markdown",
   "metadata": {},
   "source": [
    "### 2.1 Data Description"
   ]
  },
  {
   "cell_type": "code",
   "execution_count": null,
   "metadata": {},
   "outputs": [],
   "source": [
    "# Just taking a look at the dataframe.\n",
    "df2.head(3)"
   ]
  },
  {
   "cell_type": "code",
   "execution_count": null,
   "metadata": {},
   "outputs": [],
   "source": [
    "# Checking dataframe size.\n",
    "print( 'Rows: {}'.format( df2.shape[0] ) )\n",
    "print( 'Cols: {}'.format( df2.shape[1] ) )"
   ]
  },
  {
   "cell_type": "code",
   "execution_count": null,
   "metadata": {},
   "outputs": [],
   "source": [
    "# Displaying information about variables types and missing values.\n",
    "type_value_analysis = pd.concat(\n",
    "    [df2.dtypes, df2.isna().sum()], \n",
    "    axis=1, \n",
    "    keys=['Data Types', 'Missing Values'])\n",
    "print(type_value_analysis)"
   ]
  },
  {
   "cell_type": "markdown",
   "metadata": {},
   "source": [
    "### 2.2 Missing Values"
   ]
  },
  {
   "cell_type": "code",
   "execution_count": null,
   "metadata": {},
   "outputs": [],
   "source": [
    "# Trying to understand the missing values.\n",
    "df2[(df2['ca'].isna()) | (df2['thal'].isna())]"
   ]
  },
  {
   "cell_type": "code",
   "execution_count": null,
   "metadata": {},
   "outputs": [],
   "source": [
    "# I don't have any other information that could help determine the missing values \n",
    "# for 'ca' (flouroscopy result) or 'thal' (whatever this is). \n",
    "# \n",
    "# The decision here is to drop them. It's just 2.3% of our dataset, we'll survive.\n",
    "df2 = df2.dropna()"
   ]
  },
  {
   "cell_type": "markdown",
   "metadata": {},
   "source": [
    "### 2.3 Data Types"
   ]
  },
  {
   "cell_type": "code",
   "execution_count": null,
   "metadata": {},
   "outputs": [],
   "source": [
    "# We have to take a look in the variables with data type float64, as the \n",
    "# int64 alreary have their values determined by the nature of its type.\n",
    "# \n",
    "# These are 'oldpeak', 'ca' and 'thal'. Let's check their values. \n",
    "# \n",
    "# P.S.: UCI Repository says that 'oldpeak' and 'ca' are integer and 'thal' \n",
    "# is categorical.\n",
    "unique_values_dict = {\n",
    "    'oldpeak': list(df2['oldpeak'].unique()),\n",
    "    'ca': list(df2['ca'].unique()),\n",
    "    'thal': list(df2['thal'].unique())\n",
    "}\n",
    "\n",
    "for i in unique_values_dict:\n",
    "    print('{}: {}'.format(i, unique_values_dict[i]))"
   ]
  },
  {
   "cell_type": "code",
   "execution_count": null,
   "metadata": {},
   "outputs": [],
   "source": [
    "# As we can see, 'ca' and 'thal' can be stored as integer. But, contrary to \n",
    "# the UCI recommendation, 'oldpeak' is indeed float.\n",
    "variables_to_integer = ['ca', 'thal']\n",
    "\n",
    "for i in variables_to_integer:\n",
    "    df2[i] = df2[i].astype('int64')"
   ]
  },
  {
   "cell_type": "markdown",
   "metadata": {},
   "source": [
    "### 2.4 Identifying Categorical and Numerical Data"
   ]
  },
  {
   "cell_type": "code",
   "execution_count": null,
   "metadata": {},
   "outputs": [],
   "source": [
    "# Let's display unique values for each variable. Then we can decide on\n",
    "# the nature of the data attributes.\n",
    "attributes = list(df2.columns)\n",
    "attributes_dict = {}\n",
    "\n",
    "for att in attributes:\n",
    "    attributes_dict[att] = list(df2[att].unique())\n",
    "\n",
    "for i, j in attributes_dict.items():\n",
    "    print('{}: {}'.format(i, j))"
   ]
  },
  {
   "cell_type": "markdown",
   "metadata": {},
   "source": [
    "#### 2.4.1 Numerical Attributes"
   ]
  },
  {
   "cell_type": "code",
   "execution_count": null,
   "metadata": {},
   "outputs": [],
   "source": [
    "# Complete list of attributes:\n",
    "attributes = list(df2.columns)\n",
    "\n",
    "# For the numerical attributes, we can identify:\n",
    "num_attributes = ['age', 'trestbps', 'chol', 'thalach', 'oldpeak']\n",
    "\n",
    "# And for the categorical ones, we have:\n",
    "cat_attributes = [att for att in attributes if att not in num_attributes]"
   ]
  },
  {
   "cell_type": "markdown",
   "metadata": {},
   "source": [
    "# 3"
   ]
  }
 ],
 "metadata": {
  "kernelspec": {
   "display_name": "heart_disease",
   "language": "python",
   "name": "python3"
  },
  "language_info": {
   "codemirror_mode": {
    "name": "ipython",
    "version": 3
   },
   "file_extension": ".py",
   "mimetype": "text/x-python",
   "name": "python",
   "nbconvert_exporter": "python",
   "pygments_lexer": "ipython3",
   "version": "3.12.4"
  }
 },
 "nbformat": 4,
 "nbformat_minor": 2
}
